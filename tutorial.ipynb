{
 "cells": [
  {
   "cell_type": "markdown",
   "id": "1b6ce820-b710-4fcc-9ec9-7013f57000d7",
   "metadata": {},
   "source": [
    "# Ploomber take-home tutorial\n",
    "\n",
    "This document describes all you need to know for a successful take-home challenge. The challenge requires you to know Python and Docker basics.\n",
    "\n",
    "## Python tutorial\n",
    "\n",
    "Things you need to know:\n",
    "\n",
    "- Functions in Python\n",
    "- How to use the Docker Python client\n",
    "- Run Python scripts from the terminal\n",
    "- Writing CLI applications using `argparse`\n",
    "- How to build a Python package\n",
    "- Create new Python environments with conda, venv, or any similar tool\n",
    "- Debugging"
   ]
  },
  {
   "cell_type": "markdown",
   "id": "b61789c2-7eb6-4439-9470-4b2d25d21c54",
   "metadata": {},
   "source": [
    "### Functions in Python"
   ]
  },
  {
   "cell_type": "code",
   "execution_count": 1,
   "id": "b73c4402-f023-4814-a253-74cde3f7081b",
   "metadata": {},
   "outputs": [
    {
     "data": {
      "text/plain": [
       "2"
      ]
     },
     "execution_count": 1,
     "metadata": {},
     "output_type": "execute_result"
    }
   ],
   "source": [
    "def my_sum(x, y):\n",
    "    return x + y\n",
    "\n",
    "my_sum(1, 1)"
   ]
  },
  {
   "cell_type": "markdown",
   "id": "05566839-2182-4c16-a259-876bb0c28d6f",
   "metadata": {},
   "source": [
    "### Docker Python client\n",
    "\n",
    "You must use the [Docker Python client](https://github.com/docker/docker-py):\n",
    "\n",
    "```sh\n",
    "pip install docker\n",
    "```"
   ]
  },
  {
   "cell_type": "markdown",
   "id": "38af80bd-0840-4299-a72d-22ac61fbed33",
   "metadata": {},
   "source": [
    "Then you can use it like this:"
   ]
  },
  {
   "cell_type": "code",
   "execution_count": 3,
   "id": "493af39f-c3b1-4cfa-9257-3c7d1a547f0b",
   "metadata": {},
   "outputs": [
    {
     "data": {
      "text/plain": [
       "b'Python 3.11.9\\n'"
      ]
     },
     "execution_count": 3,
     "metadata": {},
     "output_type": "execute_result"
    }
   ],
   "source": [
    "import docker\n",
    "\n",
    "client = docker.from_env()\n",
    "client.containers.run(\"python:3.11\", \"python --version\")"
   ]
  },
  {
   "cell_type": "markdown",
   "id": "51ad8762-3119-4c51-b025-2b32330db071",
   "metadata": {},
   "source": [
    "### Run Python scripts from the terminal\n",
    "\n",
    "To run a Python script, store it (e.g., `myscript.py`), and call it with:\n",
    "\n",
    "```sh\n",
    "python myscript.py\n",
    "```"
   ]
  },
  {
   "cell_type": "markdown",
   "id": "c90c1692-3222-4d66-8ca2-6dc57186488b",
   "metadata": {},
   "source": [
    "### Writing CLI applications using `argparse`\n",
    "\n",
    "The [`argparse`](https://docs.python.org/3/library/argparse.html) module allows you to write command line tools. It comes pre-installed, so no need to install anything.\n",
    "\n",
    "Let's store a sample utility in a `cli.py` file:"
   ]
  },
  {
   "cell_type": "code",
   "execution_count": 4,
   "id": "daaf22a5-14fd-4051-8d1b-f7fddbc90d21",
   "metadata": {},
   "outputs": [],
   "source": [
    "from pathlib import Path\n",
    "\n",
    "_ = Path(\"cli.py\").write_text(\"\"\"\n",
    "import argparse\n",
    "\n",
    "def add_numbers(num1, num2):\n",
    "    return num1 + num2\n",
    "\n",
    "def main():\n",
    "    parser = argparse.ArgumentParser(description=\"Add two numbers\")\n",
    "    parser.add_argument(\"num1\", type=float, help=\"First number\")\n",
    "    parser.add_argument(\"num2\", type=float, help=\"Second number\")\n",
    "    args = parser.parse_args()\n",
    "    \n",
    "    result = add_numbers(args.num1, args.num2)\n",
    "    print(f\"The sum of {args.num1} and {args.num2} is {result}\")\n",
    "\n",
    "\n",
    "# this if statement is required in Python, defines the entry point for your script\n",
    "if __name__ == \"__main__\":\n",
    "    main()\n",
    "\"\"\")"
   ]
  },
  {
   "cell_type": "markdown",
   "id": "0fe6d210-82f7-46b8-8a49-dc7039f60f2b",
   "metadata": {},
   "source": [
    "Now, let's call it from the terminal:"
   ]
  },
  {
   "cell_type": "code",
   "execution_count": 5,
   "id": "dcaa939e-0813-4440-a0d4-ac24b2541186",
   "metadata": {},
   "outputs": [
    {
     "name": "stdout",
     "output_type": "stream",
     "text": [
      "usage: cli.py [-h] num1 num2\n",
      "\n",
      "Add two numbers\n",
      "\n",
      "positional arguments:\n",
      "  num1        First number\n",
      "  num2        Second number\n",
      "\n",
      "options:\n",
      "  -h, --help  show this help message and exit\n"
     ]
    }
   ],
   "source": [
    "%%bash\n",
    "python cli.py --help"
   ]
  },
  {
   "cell_type": "code",
   "execution_count": 6,
   "id": "5d4d60c9-8df8-4655-bde9-7114718d2624",
   "metadata": {},
   "outputs": [
    {
     "name": "stdout",
     "output_type": "stream",
     "text": [
      "The sum of 1.0 and 2.0 is 3.0\n"
     ]
    }
   ],
   "source": [
    "%%bash\n",
    "python cli.py 1 2"
   ]
  },
  {
   "cell_type": "code",
   "execution_count": 7,
   "id": "179438c3-bb7e-42fb-9f44-b0ca16a601a8",
   "metadata": {},
   "outputs": [
    {
     "name": "stdout",
     "output_type": "stream",
     "text": [
      "The sum of 21.0 and 21.0 is 42.0\n"
     ]
    }
   ],
   "source": [
    "%%bash\n",
    "python cli.py 21 21"
   ]
  },
  {
   "cell_type": "markdown",
   "id": "66f5979a-2e32-446b-b970-71a5a9df164d",
   "metadata": {},
   "source": [
    "### How to build a Python package\n",
    "\n",
    "The take-home is structured as a Python package, which allows you to move code around and install it easily. There's no need to understand these concepts in depth, but you should be familiar with the following:\n",
    "\n",
    "[`build`](https://github.com/pypa/build) is a package that allows packaging a Python project.\n",
    "\n",
    "```sh\n",
    "# install the build package\n",
    "pip install build\n",
    "\n",
    "# create a Python package by calling build, this creates a .tar.gz file\n",
    "python -m build\n",
    "\n",
    "# them, you can install the package with\n",
    "pip install path/to/package.tar.gz\n",
    "```\n",
    "\n",
    "Once the package is installed, you can import it in a Python session. For example, if your package is named `my_package`, you'll be able to import it upon installation:\n",
    "\n",
    "```python\n",
    "import my_package\n",
    "```"
   ]
  },
  {
   "cell_type": "markdown",
   "id": "7555695a-8f2f-405c-a2f6-86e04fcd8777",
   "metadata": {},
   "source": [
    "### Create new Python environments with `conda`, `venv`, or any similar tool\n",
    "\n",
    "Virtual environments allow you to isolate Python installations. The same concept exists in other languages and the objective is to allow isolating environments so dependencies don't collide with each other.\n",
    "\n",
    "For the take-home, you must be familiar with four concepts:\n",
    "\n",
    "- How to create a new environment\n",
    "- How to activate such environment\n",
    "- How to install packages in the environment\n",
    "- How to run code in the environment\n",
    "\n",
    "\n",
    "We recommend using [`miniconda`](https://docs.conda.io/projects/miniconda/en/latest/), but you might use other tools such as venv. Here's how to use miniconda (assuming it's already installed):\n",
    "\n",
    "```sh\n",
    "# create an environment that has python 3.11\n",
    "conda create --name mypythonenv python=3.11\n",
    "\n",
    "# activate the environment\n",
    "conda activate mypythonenv\n",
    "\n",
    "# install packages\n",
    "pip install {packagename}\n",
    "\n",
    "# how to run code: once the environment is active, you can run python like this\n",
    "python myscript.py\n",
    "```\n",
    "\n",
    "**Important**: verify that you can successfully run the workflow described above, to double-check that you're using the right Python installation, you can do the following:\n",
    "\n",
    "```sh\n",
    "# activate environment\n",
    "conda activate mypythonenv\n",
    "\n",
    "# check where the python binary is\n",
    "python -c 'import sys; print(sys.executable)'\n",
    "```\n",
    "\n",
    "The command above should print something like:\n",
    "\n",
    "```\n",
    "/Users/youruser/miniconda3/envs/mypythonenv/bin/python\n",
    "```\n",
    "\n",
    "If it doesn't, check your miniconda installation."
   ]
  },
  {
   "cell_type": "markdown",
   "id": "50b12bd2-535d-4104-8be9-d9bf602bc034",
   "metadata": {},
   "source": [
    "### Debugging\n",
    "\n",
    "We *highly recommend you* learn how to use a Python debugger. IDEs such as VSCode come with Python debugging tools. If you prefer, you can directly use the [built-in debugging](https://docs.python.org/3/library/pdb.html) tools. Ensure you are familiar with the basics:\n",
    "\n",
    "- Adding breakpoints\n",
    "- Line-by-line debugging"
   ]
  },
  {
   "cell_type": "markdown",
   "id": "6a9d67fe-7402-4299-8550-ec29d767d0a7",
   "metadata": {},
   "source": [
    "## Docker tutorial\n",
    "\n",
    "The take-home involves using Docker, so ensure it's installed and working correctly. Here's a quick example running some Python code in the `python:3.11` image:"
   ]
  },
  {
   "cell_type": "code",
   "execution_count": 8,
   "id": "2014ef6b-c70e-41b3-9bc0-a0c42ff98475",
   "metadata": {},
   "outputs": [
    {
     "name": "stdout",
     "output_type": "stream",
     "text": [
      "hello from python!\n"
     ]
    }
   ],
   "source": [
    "%%bash\n",
    "docker run python:3.11 python -c 'print(\"hello from python!\")'"
   ]
  },
  {
   "cell_type": "markdown",
   "id": "f1489c0b-ed97-4892-b710-b9c43f352fdd",
   "metadata": {},
   "source": [
    "Ensure you're familiar with the following concepts:\n",
    "\n",
    "- How to start a container\n",
    "- How to run commands inside a container\n",
    "- How to share data between your laptop and the container\n",
    "- How to shut down a container\n",
    "\n",
    "For the take-home, you must use the Docker Python client (**do not use the Docker CLI**).\n",
    "\n",
    "That's it! Best of luck in your take-home!"
   ]
  }
 ],
 "metadata": {
  "kernelspec": {
   "display_name": "Python 3 (ipykernel)",
   "language": "python",
   "name": "python3"
  },
  "language_info": {
   "codemirror_mode": {
    "name": "ipython",
    "version": 3
   },
   "file_extension": ".py",
   "mimetype": "text/x-python",
   "name": "python",
   "nbconvert_exporter": "python",
   "pygments_lexer": "ipython3",
   "version": "3.12.7"
  }
 },
 "nbformat": 4,
 "nbformat_minor": 5
}
